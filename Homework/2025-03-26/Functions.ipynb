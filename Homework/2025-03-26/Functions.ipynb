{
 "cells": [
  {
   "cell_type": "markdown",
   "metadata": {},
   "source": [
    "# Cole Southard"
   ]
  },
  {
   "cell_type": "markdown",
   "metadata": {},
   "source": [
    "# 1"
   ]
  },
  {
   "cell_type": "code",
   "execution_count": null,
   "metadata": {},
   "outputs": [
    {
     "data": {
      "text/plain": [
       "4.5"
      ]
     },
     "execution_count": 3,
     "metadata": {},
     "output_type": "execute_result"
    }
   ],
   "source": [
    "def list_average(list):\n",
    "    \"\"\"\n",
    "    This function calculates the average of all elements in the provided list.\n",
    "    Input: A list of numbers\n",
    "    Return: The average value of all numbers in the list\n",
    "    \"\"\"\n",
    "    \n",
    "    sum = 0 # starting sum is zero\n",
    "    for i in list:\n",
    "        sum += i # adds each number to the total\n",
    "    return sum / len(list) # returns the sum of every number in the list divided by the amount of numbers in the list\n",
    "\n",
    "list_average([0,3,5,10])"
   ]
  },
  {
   "cell_type": "markdown",
   "metadata": {},
   "source": [
    "# 2"
   ]
  },
  {
   "cell_type": "code",
   "execution_count": null,
   "metadata": {},
   "outputs": [
    {
     "data": {
      "text/plain": [
       "(13, 2)"
      ]
     },
     "execution_count": 2,
     "metadata": {},
     "output_type": "execute_result"
    }
   ],
   "source": [
    "def list_max(list):\n",
    "    \"\"\"\n",
    "    This function finds the maximum value in the provided list and its position.\n",
    "    Input: A list of numbers\n",
    "    Return: A tuple containing the maximum value and its index in the list\n",
    "    \"\"\"\n",
    "    \n",
    "    max = list[0] # initializes the maximum as the first term\n",
    "    maxIndex = 0 # initializes the first position as the position of the maximum term \n",
    "\n",
    "    for i in range(len(list)): \n",
    "        if list[i] > max: # if the term is larger than the current maximum, then it will replace the maximum\n",
    "            max = list[i]\n",
    "            maxIndex = i\n",
    "    \n",
    "    return (max, maxIndex) # returns tuple with maximum value and its index\n",
    "\n",
    "list_max([1,7,13,9])"
   ]
  },
  {
   "cell_type": "markdown",
   "metadata": {},
   "source": [
    "# 3"
   ]
  },
  {
   "cell_type": "code",
   "execution_count": null,
   "metadata": {},
   "outputs": [
    {
     "data": {
      "text/plain": [
       "(1, [3, 4])"
      ]
     },
     "execution_count": 1,
     "metadata": {},
     "output_type": "execute_result"
    }
   ],
   "source": [
    "def list_mode(list):\n",
    "    \"\"\"\n",
    "    This function finds the most frequent value in the provided list and its positions. If multiple values occur with the same maximum frequency, it returns the smallest one.\n",
    "    Input: A list of numbers\n",
    "    Return: A tuple containing the mode value and its index position(s) in the input list\n",
    "    \"\"\"\n",
    "\n",
    "    numCount = {} # count occurrences of each number\n",
    "    for num in list:\n",
    "        numCount[num] = numCount.get(num, 0) + 1\n",
    "    \n",
    "    max_count = 0 # initialize max count as zero, finds the number of max occurrences\n",
    "    for count in numCount.values():\n",
    "        if count > max_count:\n",
    "            max_count = count\n",
    "    \n",
    "    mode_candidates = [] # find all values with the highest count\n",
    "    for num, count in numCount.items():\n",
    "        if count == max_count:\n",
    "            mode_candidates.append(num)\n",
    "    \n",
    "    mode_value = mode_candidates[0] # choose the smallest value among the greatest occuring numbers\n",
    "    for candidate in mode_candidates:\n",
    "        if candidate < mode_value:\n",
    "            mode_value = candidate\n",
    "    \n",
    "    positions = [] # find position(s) where mode occurs\n",
    "    for i in range(len(list)):\n",
    "        if list[i] == mode_value:\n",
    "            positions.append(i)\n",
    "    \n",
    "    return (mode_value, positions)\n",
    "\n",
    "list_mode([3,8,5,1,1,4,8])"
   ]
  },
  {
   "cell_type": "markdown",
   "metadata": {},
   "source": [
    "# 4"
   ]
  },
  {
   "cell_type": "code",
   "execution_count": null,
   "metadata": {},
   "outputs": [
    {
     "data": {
      "text/plain": [
       "'ethay uickqay ownbray oxfay umpsjay overyay ethay azylay ogday'"
      ]
     },
     "execution_count": 5,
     "metadata": {},
     "output_type": "execute_result"
    }
   ],
   "source": [
    "def is_vowel(letter):\n",
    "    \"\"\"\n",
    "    This function determines if a letter is a vowel\n",
    "    Input: single letter as a string\n",
    "    Return: True if it is a vowel, False if it is a consonant\n",
    "    \"\"\"\n",
    "\n",
    "    vowels = ['a', 'e', 'i', 'o', 'u']\n",
    "    if letter in vowels: return True\n",
    "    else: return False\n",
    "\n",
    "def pig_latinizer(string):\n",
    "    \"\"\"\n",
    "    This function converts a string into pig latin\n",
    "    \n",
    "    Rules:\n",
    "    - If a word starts with a vowel, add \"yay\" to the end\n",
    "    - If a word starts with consonants, move all initial consonants to the end and add \"ay\"\n",
    "    \n",
    "    Input: A string containing one or more words\n",
    "    Return: The Pig Latin translation of the input string\n",
    "    \"\"\"\n",
    "\n",
    "    string = string.lower()  # make string lowercase\n",
    "    words = string.split()  # splits string into individual words\n",
    "    \n",
    "    result = []  # initializes the result as an empty list\n",
    "\n",
    "    for word in words:\n",
    "        if is_vowel(word[0]):  # if word starts with vowel, add \"yay\" to the end\n",
    "            result.append(word + 'yay')\n",
    "        else:  # if word starts with consonant cluster, move them to the back and add \"ay\" to the end\n",
    "            consonant_cluster = ''\n",
    "            i = 0 # count how many consonants the word starts with, ititialized at zero\n",
    "            while i < len(word) and not is_vowel(word[i]):\n",
    "                consonant_cluster += word[i]\n",
    "                i += 1\n",
    "            result.append(word[i:] + consonant_cluster + 'ay')\n",
    "    \n",
    "    return ' '.join(result)  # turn list of words back into a string\n",
    "\n",
    "pig_latinizer('The Quick Brown Fox Jumps Over The Lazy Dog')\n"
   ]
  },
  {
   "cell_type": "markdown",
   "metadata": {},
   "source": [
    "# Extra Credit"
   ]
  },
  {
   "cell_type": "code",
   "execution_count": null,
   "metadata": {},
   "outputs": [
    {
     "data": {
      "text/plain": [
       "'totoo lolazozyoy toto tothohinonkok ofof a sostotrorinongog'"
      ]
     },
     "execution_count": 6,
     "metadata": {},
     "output_type": "execute_result"
    }
   ],
   "source": [
    "def rovarspraketizer(string):\n",
    "    \"\"\"\n",
    "    This function converts a string into Rovarspraket\n",
    "    \n",
    "    Rules:\n",
    "    - If a letter is a consonant, double it and add an 'o' in the middle\n",
    "    - If a letter is a vowel, it remains unchanged\n",
    "    \n",
    "    Input: A string containing one or more words\n",
    "    Return: The Rovarspraket translation of the input string\n",
    "    \"\"\"\n",
    "\n",
    "    string = string.lower()\n",
    "    words = string.split()\n",
    "\n",
    "    result = [] # everything here and above has same functionality as pig latinizer\n",
    "\n",
    "    for word in words:\n",
    "        new_word = '' # store each processed word\n",
    "        for char in word:\n",
    "            if is_vowel(char):\n",
    "                new_word += char\n",
    "            else:\n",
    "                new_word += char + 'o' + char\n",
    "        result.append(new_word)\n",
    "    \n",
    "    return ' '.join(result) # join words as string\n",
    "\n",
    "rovarspraketizer('too lazy to think of a string')"
   ]
  }
 ],
 "metadata": {
  "kernelspec": {
   "display_name": "Python 3",
   "language": "python",
   "name": "python3"
  },
  "language_info": {
   "codemirror_mode": {
    "name": "ipython",
    "version": 3
   },
   "file_extension": ".py",
   "mimetype": "text/x-python",
   "name": "python",
   "nbconvert_exporter": "python",
   "pygments_lexer": "ipython3",
   "version": "3.13.1"
  }
 },
 "nbformat": 4,
 "nbformat_minor": 2
}
