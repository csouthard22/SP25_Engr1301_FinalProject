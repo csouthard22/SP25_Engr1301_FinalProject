{
 "cells": [
  {
   "cell_type": "markdown",
   "metadata": {},
   "source": [
    "# Cole Southard"
   ]
  },
  {
   "cell_type": "markdown",
   "metadata": {},
   "source": [
    "# Question 1"
   ]
  },
  {
   "cell_type": "code",
   "execution_count": null,
   "metadata": {},
   "outputs": [
    {
     "name": "stdout",
     "output_type": "stream",
     "text": [
      "The distance between the two points is 7.211102550927978\n"
     ]
    }
   ],
   "source": [
    "def dist(x1,y1,x2,y2):\n",
    "    return ((x2-x1)**2 + (y2-y1)**2)**(1/2)\n",
    "\n",
    "answer1 = str(dist(3,4,7,10))\n",
    "print(f'The distance between the two points is {answer1}')"
   ]
  },
  {
   "cell_type": "markdown",
   "metadata": {},
   "source": [
    "# Question 2"
   ]
  },
  {
   "cell_type": "code",
   "execution_count": null,
   "metadata": {},
   "outputs": [
    {
     "name": "stdout",
     "output_type": "stream",
     "text": [
      "The Manhattan distance between the two points is 7\n"
     ]
    }
   ],
   "source": [
    "def manhatDist(x1,y1,x2,y2):\n",
    "    return (abs(x1-x2) + abs(y1-y2))\n",
    "\n",
    "answer2 = str(manhatDist(1,5,5,8))\n",
    "print(f'The Manhattan distance between the two points is {answer2}')"
   ]
  },
  {
   "cell_type": "markdown",
   "metadata": {},
   "source": [
    "# Question 3"
   ]
  },
  {
   "cell_type": "code",
   "execution_count": null,
   "metadata": {},
   "outputs": [
    {
     "name": "stdout",
     "output_type": "stream",
     "text": [
      "The distance between the point and the line is 4.695742752749558\n"
     ]
    }
   ],
   "source": [
    "def ptLineDist(x,y,a,b,c):\n",
    "    return (abs(a*x + b*y + c)/(a**2 + b**2)**(1/2))\n",
    "\n",
    "answer3 = str(ptLineDist(4,7,2,-4,-1))\n",
    "print(f'The distance between the point and the line is {answer3}')"
   ]
  },
  {
   "cell_type": "markdown",
   "metadata": {},
   "source": [
    "# Question 4"
   ]
  },
  {
   "cell_type": "code",
   "execution_count": null,
   "metadata": {},
   "outputs": [
    {
     "name": "stdout",
     "output_type": "stream",
     "text": [
      "You can be dealt 1326.0 private hands in a game of Texas Hold'em\n"
     ]
    }
   ],
   "source": [
    "import math\n",
    "\n",
    "def combination(n,r):\n",
    "    return ((math.factorial(n)) / (math.factorial(r) * (math.factorial(n-r))))\n",
    "\n",
    "answer4 = str(combination(52,2))\n",
    "print(f'You can be dealt {answer4} private hands in a game of Texas Hold\\'em')"
   ]
  },
  {
   "cell_type": "markdown",
   "metadata": {},
   "source": [
    "# Question 5"
   ]
  },
  {
   "cell_type": "code",
   "execution_count": null,
   "metadata": {},
   "outputs": [
    {
     "name": "stdout",
     "output_type": "stream",
     "text": [
      "The force on the wall is 688.5608755500002 pounds.\n"
     ]
    }
   ],
   "source": [
    "def windLoading(rho,u,cd,a):\n",
    "    return (.5 * rho * u**2 * cd * a)\n",
    "\n",
    "answer5 = str(windLoading(.00237,15*1.467,2,20*30))\n",
    "print(f'The force on the wall is {answer5} pounds.')"
   ]
  },
  {
   "cell_type": "markdown",
   "metadata": {},
   "source": [
    "# Question 6"
   ]
  },
  {
   "cell_type": "code",
   "execution_count": 1,
   "metadata": {},
   "outputs": [
    {
     "name": "stdout",
     "output_type": "stream",
     "text": [
      "81.834\n"
     ]
    }
   ],
   "source": [
    "from math import e,log\n",
    "answer6 = round((e ** 7) / (log(9,1.5) + log(10,2) + log(11) + log(12,3)),3)\n",
    "\n",
    "print(answer6)"
   ]
  },
  {
   "cell_type": "markdown",
   "metadata": {},
   "source": [
    "# Question 7"
   ]
  },
  {
   "cell_type": "code",
   "execution_count": 6,
   "metadata": {},
   "outputs": [
    {
     "name": "stdout",
     "output_type": "stream",
     "text": [
      "2.3012989023072947\n"
     ]
    }
   ],
   "source": [
    "from math import e, pi\n",
    "\n",
    "def sinh(x):\n",
    "    return (e**x - e**(-x))/2\n",
    "\n",
    "answer7 = sinh(pi/2)\n",
    "print(answer7)\n"
   ]
  },
  {
   "cell_type": "markdown",
   "metadata": {},
   "source": [
    "# Question 8"
   ]
  },
  {
   "cell_type": "code",
   "execution_count": 52,
   "metadata": {},
   "outputs": [
    {
     "name": "stdout",
     "output_type": "stream",
     "text": [
      "At retirement, investor 1 has $386070.61\n",
      "At retirement, investor 2 has $337650.78\n",
      "\n",
      "Investor 1 gained $346070.61\n",
      "Investor 2 gained $277650.78\n",
      "\n",
      "Investor 1 made 1.246 times more capital gain than investor 2\n"
     ]
    }
   ],
   "source": [
    "def futureValue(p,r,t):\n",
    "    return (p * (1+r)**t)\n",
    "\n",
    "rate = .08\n",
    "\n",
    "investor1tot = 0\n",
    "for i in range(25,65,10):\n",
    "    investor1tot += futureValue(10000,rate,65-i)\n",
    "\n",
    "investor2tot = 0\n",
    "for i in range(35,65,10):\n",
    "    investor2tot += futureValue(20000,rate,65-i)\n",
    "\n",
    "investor1gain =  investor1tot-40000\n",
    "investor2gain =  investor2tot-60000\n",
    "\n",
    "answer8 = investor1gain/investor2gain\n",
    "\n",
    "print('At retirement, investor 1 has $' + str(round(investor1tot,2)))\n",
    "print('At retirement, investor 2 has $' + str(round(investor2tot,2)))\n",
    "print('')\n",
    "print('Investor 1 gained $' + str(round(investor1gain,2)))\n",
    "print('Investor 2 gained $' + str(round(investor2gain,2)))\n",
    "print('')\n",
    "print('Investor 1 made ' + str(round(answer8,3)) + ' times more capital gain than investor 2')\n",
    "\n"
   ]
  },
  {
   "cell_type": "markdown",
   "metadata": {},
   "source": [
    "# Question 9"
   ]
  },
  {
   "cell_type": "code",
   "execution_count": 60,
   "metadata": {},
   "outputs": [
    {
     "name": "stdout",
     "output_type": "stream",
     "text": [
      "At retirement, investor 3 has $489132.16\n",
      "At retirement, investor 4 has $683280.41\n",
      "\n",
      "Investor 3 gained $442132.16\n",
      "Investor 4 gained $636280.41\n",
      "\n",
      "Investor 4 made 1.439 times more capital gain than investor 3\n"
     ]
    }
   ],
   "source": [
    "def futureValue(p,r,t):\n",
    "    return (p * (1+r)**t)\n",
    "\n",
    "rate = .08\n",
    "\n",
    "investor3tot = 0\n",
    "for i in range(18,65):\n",
    "    investor3tot += futureValue(1000,rate,65-i)\n",
    "# investor 3 starts at age 18, contributing $1000 per year\n",
    "\n",
    "investor4tot = 0\n",
    "for i in range(18,65):\n",
    "    investor4tot += futureValue(1000,rate+.01,65-i)\n",
    "\n",
    "investor3gain =  investor3tot - (1000*(65-18))\n",
    "investor4gain =  investor4tot - (1000*(65-18))\n",
    "\n",
    "answer9 = investor4gain/investor3gain\n",
    "\n",
    "print('At retirement, investor 3 has $' + str(round(investor3tot,2)))\n",
    "print('At retirement, investor 4 has $' + str(round(investor4tot,2)))\n",
    "print('')\n",
    "print('Investor 3 gained $' + str(round(investor3gain,2)))\n",
    "print('Investor 4 gained $' + str(round(investor4gain,2)))\n",
    "print('')\n",
    "print('Investor 4 made ' + str(round(answer9,3)) + ' times more capital gain than investor 3')\n"
   ]
  },
  {
   "cell_type": "markdown",
   "metadata": {},
   "source": [
    "The first investor made $68,419.83 more than investor 1 in question 8.\n",
    "\n",
    "It's wise to make contributions as soon as possible so the gains have more time to compound. The more time in the market the better.\n",
    "\n",
    "The interest rate has a massive impact on the total gains made. Investor 4 had an annual rate of return just 1 percent greater than investor 3, but made 1.44 times more money over the life of the investment with all other factors being equal."
   ]
  }
 ],
 "metadata": {
  "kernelspec": {
   "display_name": "Python 3",
   "language": "python",
   "name": "python3"
  },
  "language_info": {
   "codemirror_mode": {
    "name": "ipython",
    "version": 3
   },
   "file_extension": ".py",
   "mimetype": "text/x-python",
   "name": "python",
   "nbconvert_exporter": "python",
   "pygments_lexer": "ipython3",
   "version": "3.13.1"
  }
 },
 "nbformat": 4,
 "nbformat_minor": 2
}
