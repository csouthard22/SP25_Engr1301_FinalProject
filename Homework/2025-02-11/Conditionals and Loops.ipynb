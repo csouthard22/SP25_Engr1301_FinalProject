{
 "cells": [
  {
   "cell_type": "markdown",
   "metadata": {},
   "source": [
    "# Cole Southard"
   ]
  },
  {
   "cell_type": "markdown",
   "metadata": {},
   "source": [
    "# 1"
   ]
  },
  {
   "cell_type": "code",
   "execution_count": 76,
   "metadata": {},
   "outputs": [
    {
     "name": "stdout",
     "output_type": "stream",
     "text": [
      "It takes 6.0 hours to travel 300 miles at 50 miles per hour.\n",
      "It takes 5.0 hours to travel 300 miles at 60 miles per hour.\n",
      "It takes 4.3 hours to travel 300 miles at 70 miles per hour.\n",
      "It takes 3.8 hours to travel 300 miles at 80 miles per hour.\n",
      "It takes 3.3 hours to travel 300 miles at 90 miles per hour.\n"
     ]
    }
   ],
   "source": [
    "speeds = [50,60,70,80,90]\n",
    "miles = 300\n",
    "for speed in speeds:\n",
    "    print(f'It takes {round(miles/speed, 1)} hours to travel {miles} miles at {speed} miles per hour.')"
   ]
  },
  {
   "cell_type": "markdown",
   "metadata": {},
   "source": [
    "# 2"
   ]
  },
  {
   "cell_type": "code",
   "execution_count": 77,
   "metadata": {},
   "outputs": [
    {
     "name": "stdout",
     "output_type": "stream",
     "text": [
      "Right side limit:\n",
      "1.00000000, 0.84147098\n",
      "0.50000000, 0.95885108\n",
      "0.25000000, 0.98961584\n",
      "0.12500000, 0.99739787\n",
      "0.06250000, 0.99934909\n",
      "0.03125000, 0.99983725\n",
      "0.01562500, 0.99995931\n",
      "0.00781250, 0.99998983\n",
      "0.00390625, 0.99999746\n",
      "0.00195312, 0.99999936\n",
      "0.00097656, 0.99999984\n",
      "\n",
      "Left side limit:\n",
      "-1.00000000, 0.84147098\n",
      "-0.50000000, 0.95885108\n",
      "-0.25000000, 0.98961584\n",
      "-0.12500000, 0.99739787\n",
      "-0.06250000, 0.99934909\n",
      "-0.03125000, 0.99983725\n",
      "-0.01562500, 0.99995931\n",
      "-0.00781250, 0.99998983\n",
      "-0.00390625, 0.99999746\n",
      "-0.00195312, 0.99999936\n",
      "-0.00097656, 0.99999984\n"
     ]
    }
   ],
   "source": [
    "from math import sin\n",
    "\n",
    "print('Right side limit:')\n",
    "for i in range(0, 11):\n",
    "    x = 1/2**i\n",
    "    print(f\"{x:.8f}, {sin(x)/x:.8f}\")\n",
    "\n",
    "print()\n",
    "\n",
    "print('Left side limit:')\n",
    "for i in range(0, 11):\n",
    "    x = -1/2**i\n",
    "    print(f\"{x:.8f}, {sin(x)/x:.8f}\")"
   ]
  },
  {
   "cell_type": "markdown",
   "metadata": {},
   "source": [
    "# 3"
   ]
  },
  {
   "cell_type": "code",
   "execution_count": 78,
   "metadata": {},
   "outputs": [
    {
     "name": "stdout",
     "output_type": "stream",
     "text": [
      "The approximation at 10 terms is 3.232315809405594 and the error is 0.09072315581580082\n",
      "The approximation at 100 terms is 3.1514934010709914 and the error is 0.009900747481198291\n",
      "The approximation at 1000 terms is 3.1425916543395442 and the error is 0.0009990007497511222\n",
      "The approximation at 10000 terms is 3.1416926435905346 and the error is 9.99900007414567e-05\n"
     ]
    }
   ],
   "source": [
    "def approx(n):\n",
    "    sum = 0\n",
    "    for i in range(0,n+1):\n",
    "        if i % 2 == 0:\n",
    "            sum += 1/(2*i+1)\n",
    "        else:\n",
    "            sum -= 1/(2*i+1)\n",
    "    return sum*4\n",
    "\n",
    "from math import pi\n",
    "def error(n):\n",
    "    return abs(approx(n)-pi)\n",
    "\n",
    "approx10 = approx(10)\n",
    "approx100 = approx(100)\n",
    "approx1000 = approx(1000)\n",
    "approx10000 = approx(10000)\n",
    "error10 = error(10)\n",
    "error100 = error(100)\n",
    "error1000 = error(1000)\n",
    "error10000 = error(10000)\n",
    "\n",
    "print( f'The approximation at 10 terms is {approx10} and the error is {error10}')\n",
    "print( f'The approximation at 100 terms is {approx100} and the error is {error100}')\n",
    "print( f'The approximation at 1000 terms is {approx1000} and the error is {error1000}')\n",
    "print( f'The approximation at 10000 terms is {approx10000} and the error is {error10000}')"
   ]
  },
  {
   "cell_type": "markdown",
   "metadata": {},
   "source": [
    "# 4"
   ]
  },
  {
   "cell_type": "code",
   "execution_count": 79,
   "metadata": {},
   "outputs": [
    {
     "name": "stdout",
     "output_type": "stream",
     "text": [
      "At month 60, Worker 1 has $29633.10\n",
      "At month 120, Worker 1 has $69041.70\n",
      "At month 180, Worker 1 has $122197.98\n",
      "At month 240, Worker 1 has $193897.84\n",
      "At month 300, Worker 1 has $290610.21\n",
      "At month 360, Worker 1 has $421060.71\n",
      "At month 420, Worker 1 has $597018.88\n",
      "At month 480, Worker 1 has $834360.09\n",
      "At month 540, Worker 1 has $1154497.81\n",
      "\n",
      "At month 60, Worker 2 has $25416.87\n",
      "At month 120, Worker 2 has $50417.07\n",
      "At month 180, Worker 2 has $75417.27\n",
      "At month 240, Worker 2 has $100417.47\n",
      "At month 300, Worker 2 has $125417.67\n",
      "At month 360, Worker 2 has $150417.87\n",
      "At month 420, Worker 2 has $175418.07\n",
      "At month 480, Worker 2 has $200418.27\n",
      "At month 540, Worker 2 has $225418.47\n"
     ]
    }
   ],
   "source": [
    "sum1 = 0\n",
    "for i in range(0,541):\n",
    "    sum1 = sum1 * (1+.005) + 416.67\n",
    "    if i % 60 == 0 and i != 0:\n",
    "        print(f'At month {i}, Worker 1 has ${sum1:.2f}')\n",
    "\n",
    "print()\n",
    "\n",
    "sum2 = 0\n",
    "for i in range(0,541):\n",
    "    sum2 = sum2 * (1+0) + 416.67\n",
    "    if i % 60 == 0 and i != 0:\n",
    "        print(f'At month {i}, Worker 2 has ${sum2:.2f}')"
   ]
  },
  {
   "cell_type": "markdown",
   "metadata": {},
   "source": [
    "# 5"
   ]
  },
  {
   "cell_type": "code",
   "execution_count": 80,
   "metadata": {},
   "outputs": [
    {
     "name": "stdout",
     "output_type": "stream",
     "text": [
      "               Table of Distances Traveled\n",
      "=============================================================\n",
      "                    Time (hours)\n",
      "         1    2    3    4    5    6    7    8    9   10\n",
      "-------------------------------------------------------------\n",
      "      50 |    50  100  150  200  250  300  350  400  450  500\n",
      "      60 |    60  120  180  240  300  360  420  480  540  600\n",
      "Rate  70 |    70  140  210  280  350  420  490  560  630  700\n",
      "      80 |    80  160  240  320  400  480  560  640  720  800\n",
      "      90 |    90  180  270  360  450  540  630  720  810  900\n"
     ]
    }
   ],
   "source": [
    "rates = [50,60,70,80,90]\n",
    "times = [1,2,3,4,5,6,7,8,9,10]\n",
    "\n",
    "# header\n",
    "print('               Table of Distances Traveled')\n",
    "print('=============================================================')\n",
    "print('                    Time (hours)')\n",
    "print('     ', end='')\n",
    "for time in times:\n",
    "    print(f'{time:5d}', end='')\n",
    "print()\n",
    "print('-------------------------------------------------------------')\n",
    "\n",
    "# main body\n",
    "for rate in rates:\n",
    "    if rate == 70:\n",
    "        print(f'Rate  {rate}', end=' | ')\n",
    "        for i in range(0,10):\n",
    "            print(f'{rate * times[i]:5d}', end = '')\n",
    "    else:\n",
    "        print(f'      {rate}', end=' | ')\n",
    "        for i in range(0,10):\n",
    "            print(f'{rate * times[i]:5d}', end = '')\n",
    "    print()"
   ]
  }
 ],
 "metadata": {
  "kernelspec": {
   "display_name": "Python 3",
   "language": "python",
   "name": "python3"
  },
  "language_info": {
   "codemirror_mode": {
    "name": "ipython",
    "version": 3
   },
   "file_extension": ".py",
   "mimetype": "text/x-python",
   "name": "python",
   "nbconvert_exporter": "python",
   "pygments_lexer": "ipython3",
   "version": "3.13.1"
  }
 },
 "nbformat": 4,
 "nbformat_minor": 2
}
