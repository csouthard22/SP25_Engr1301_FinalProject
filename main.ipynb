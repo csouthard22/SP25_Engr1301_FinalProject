{
 "cells": [
  {
   "cell_type": "markdown",
   "id": "03a7fd6c",
   "metadata": {},
   "source": [
    "# Import Dependencies"
   ]
  },
  {
   "cell_type": "code",
   "execution_count": 1,
   "id": "209ac1f9",
   "metadata": {},
   "outputs": [
    {
     "name": "stdout",
     "output_type": "stream",
     "text": [
      "Executing util.py\n",
      "Loaded US states GeoDataFrame:\n",
      "   id        name  density                                           geometry\n",
      "0  01     Alabama   94.650  POLYGON ((-87.3593 35.00118, -85.60668 34.9847...\n",
      "1  02      Alaska    1.264  MULTIPOLYGON (((-131.60202 55.11798, -131.5691...\n",
      "2  04     Arizona   57.050  POLYGON ((-109.0425 37.00026, -109.04798 31.33...\n",
      "3  05    Arkansas   56.430  POLYGON ((-94.47384 36.50186, -90.15254 36.496...\n",
      "4  06  California  241.700  POLYGON ((-123.23326 42.00619, -122.37885 42.0...\n",
      "TRI data directory: data/tri\n"
     ]
    }
   ],
   "source": [
    "import util\n",
    "import region"
   ]
  }
 ],
 "metadata": {
  "kernelspec": {
   "display_name": "base",
   "language": "python",
   "name": "python3"
  },
  "language_info": {
   "codemirror_mode": {
    "name": "ipython",
    "version": 3
   },
   "file_extension": ".py",
   "mimetype": "text/x-python",
   "name": "python",
   "nbconvert_exporter": "python",
   "pygments_lexer": "ipython3",
   "version": "3.12.7"
  }
 },
 "nbformat": 4,
 "nbformat_minor": 5
}
