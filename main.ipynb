{
 "cells": [
  {
   "cell_type": "markdown",
   "id": "03a7fd6c",
   "metadata": {},
   "source": [
    "# Import Dependencies"
   ]
  },
  {
   "cell_type": "code",
   "execution_count": 1,
   "id": "209ac1f9",
   "metadata": {},
   "outputs": [],
   "source": [
    "import util\n",
    "import region"
   ]
  },
  {
   "cell_type": "code",
   "execution_count": 6,
   "id": "d769db14",
   "metadata": {},
   "outputs": [
    {
     "name": "stdout",
     "output_type": "stream",
     "text": [
      "{'2002':                                       FACILITY NAME           CITY  ST  \\\n",
      "46                                         BROWNING         ARNOLD  MO   \n",
      "76          DETROT TOOL ENGINEERING-BISHOP BUILDING        LEBANON  MO   \n",
      "82             SILGAN CONTAINERS MANUFACTURING CORP   MOUNT VERNON  MO   \n",
      "176                          BRUSHY CREEK MINE/MILL           BOSS  MO   \n",
      "232                            ADM ANIMAL NUTRITION    SPRINGFIELD  MO   \n",
      "...                                             ...            ...  ..   \n",
      "95981                         LEONARD'S METAL, INC.  SAINT CHARLES  MO   \n",
      "95985                    LOUISIANA MANUFACTURING CO      LOUISIANA  MO   \n",
      "95991  HUBBELL POWER SYSTEMS - ALLEN STREET COMPLEX      CENTRALIA  MO   \n",
      "96045                     WIELAND THERMAL SOLUTIONS           CUBA  MO   \n",
      "96047                                      MEMC LLC   SAINT PETERS  MO   \n",
      "\n",
      "        LATITUDE  LONGITUDE  FEDERAL FACILITY  \\\n",
      "46     38.432060 -90.353070             False   \n",
      "76     37.673080 -92.662003             False   \n",
      "82     37.104961 -93.822319             False   \n",
      "176    37.537970 -91.129260             False   \n",
      "232    37.228980 -93.306640             False   \n",
      "...          ...        ...               ...   \n",
      "95981  38.629810 -90.779960             False   \n",
      "95985  39.443770 -91.056540             False   \n",
      "95991  39.212520 -92.133940             False   \n",
      "96045  38.054824 -91.398159             False   \n",
      "96047  38.811958 -90.658653             False   \n",
      "\n",
      "                         INDUSTRY SECTOR               CHEMICAL  \\\n",
      "46                     Fabricated Metals         Lead compounds   \n",
      "76                     Fabricated Metals               Chromium   \n",
      "82                     Fabricated Metals  Certain glycol ethers   \n",
      "176                         Metal Mining      Cyanide compounds   \n",
      "232                                 Food       Copper compounds   \n",
      "...                                  ...                    ...   \n",
      "95981           Transportation Equipment               Antimony   \n",
      "95985                     Primary Metals                 Copper   \n",
      "95991               Electrical Equipment         Zinc compounds   \n",
      "96045                     Primary Metals              Manganese   \n",
      "96047  Computers and Electronic Products            Nitric acid   \n",
      "\n",
      "       ELEMENTAL METAL INCLUDED  CLEAN AIR ACT CHEMICAL CLASSIFICATION  \\\n",
      "46                        False                    True            PBT   \n",
      "76                        False                    True            TRI   \n",
      "82                        False                    True            TRI   \n",
      "176                       False                    True            TRI   \n",
      "232                       False                   False            TRI   \n",
      "...                         ...                     ...            ...   \n",
      "95981                     False                    True            TRI   \n",
      "95985                     False                   False            TRI   \n",
      "95991                     False                   False            TRI   \n",
      "96045                     False                    True            TRI   \n",
      "96047                     False                   False            TRI   \n",
      "\n",
      "       CARCINOGEN    PBT   PFAS  \n",
      "46          False   True  False  \n",
      "76          False  False  False  \n",
      "82          False  False  False  \n",
      "176         False  False  False  \n",
      "232         False  False  False  \n",
      "...           ...    ...    ...  \n",
      "95981       False  False  False  \n",
      "95985       False  False  False  \n",
      "95991       False  False  False  \n",
      "96045       False  False  False  \n",
      "96047       False  False  False  \n",
      "\n",
      "[2384 rows x 14 columns]}\n"
     ]
    }
   ],
   "source": [
    "# Test for Region Missouri\n",
    "from region import Region\n",
    "\n",
    "# Create a Region object for Missouri\n",
    "missouri_region = Region('Missouri')\n",
    "\n",
    "# Grab data for a specific range of years\n",
    "missouri_region._grab_data(2002)\n",
    "\n",
    "# Output the data\n",
    "print(missouri_region.data)"
   ]
  }
 ],
 "metadata": {
  "kernelspec": {
   "display_name": "base",
   "language": "python",
   "name": "python3"
  },
  "language_info": {
   "codemirror_mode": {
    "name": "ipython",
    "version": 3
   },
   "file_extension": ".py",
   "mimetype": "text/x-python",
   "name": "python",
   "nbconvert_exporter": "python",
   "pygments_lexer": "ipython3",
   "version": "3.12.7"
  }
 },
 "nbformat": 4,
 "nbformat_minor": 5
}
