{
 "cells": [
  {
   "cell_type": "markdown",
   "id": "6031e6ea-8bbd-4e9b-9343-bc87d2e8596b",
   "metadata": {
    "tags": []
   },
   "source": [
    "# Getting Started with Python"
   ]
  },
  {
   "cell_type": "code",
   "execution_count": 1,
   "id": "820979d7-8662-41af-9ea3-a44aec4bce5b",
   "metadata": {
    "tags": []
   },
   "outputs": [
    {
     "name": "stdout",
     "output_type": "stream",
     "text": [
      "Hello, world!\n"
     ]
    }
   ],
   "source": [
    "print(\"Hello, world!\")"
   ]
  },
  {
   "cell_type": "markdown",
   "id": "de21b72d-b424-425e-bed3-2c93c1eb261a",
   "metadata": {},
   "source": [
    "# Saying Hello"
   ]
  },
  {
   "cell_type": "code",
   "execution_count": 5,
   "id": "46b28ed7-df7c-4f7c-a67c-580fa29083c0",
   "metadata": {
    "tags": []
   },
   "outputs": [
    {
     "name": "stdout",
     "output_type": "stream",
     "text": [
      "Hello Cole, welcome to Python!\n"
     ]
    }
   ],
   "source": [
    "name = input(\"Please enter your name: \")\n",
    "print(f\"Hello {name}, welcome to Python!\")"
   ]
  },
  {
   "cell_type": "markdown",
   "id": "8116d825-1030-4933-be09-9a836c36475b",
   "metadata": {},
   "source": [
    "# Arithmetic"
   ]
  },
  {
   "cell_type": "code",
   "execution_count": 3,
   "id": "b4595d25-4b51-4bfe-abda-bf921837524f",
   "metadata": {
    "tags": []
   },
   "outputs": [
    {
     "data": {
      "text/plain": [
       "12"
      ]
     },
     "execution_count": 3,
     "metadata": {},
     "output_type": "execute_result"
    }
   ],
   "source": [
    "5 + 7"
   ]
  },
  {
   "cell_type": "code",
   "execution_count": 4,
   "id": "bf599607-86cf-4171-ad87-2e2374d09813",
   "metadata": {
    "tags": []
   },
   "outputs": [
    {
     "data": {
      "text/plain": [
       "600"
      ]
     },
     "execution_count": 4,
     "metadata": {},
     "output_type": "execute_result"
    }
   ],
   "source": [
    "20 * 30"
   ]
  },
  {
   "cell_type": "code",
   "execution_count": null,
   "id": "a12b064c-2a65-419c-8010-e4e9e80dec0b",
   "metadata": {},
   "outputs": [],
   "source": []
  }
 ],
 "metadata": {
  "kernelspec": {
   "display_name": "Python 3",
   "language": "python",
   "name": "python3"
  },
  "language_info": {
   "codemirror_mode": {
    "name": "ipython",
    "version": 3
   },
   "file_extension": ".py",
   "mimetype": "text/x-python",
   "name": "python",
   "nbconvert_exporter": "python",
   "pygments_lexer": "ipython3",
   "version": "3.13.1"
  }
 },
 "nbformat": 4,
 "nbformat_minor": 5
}
