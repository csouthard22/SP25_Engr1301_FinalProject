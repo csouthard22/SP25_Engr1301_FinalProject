{
 "cells": [
  {
   "cell_type": "code",
   "execution_count": 1,
   "id": "68db1425-2974-431f-a8b2-49e163565c86",
   "metadata": {
    "tags": []
   },
   "outputs": [
    {
     "data": {
      "text/plain": [
       "5753.661099999998"
      ]
     },
     "execution_count": 1,
     "metadata": {},
     "output_type": "execute_result"
    }
   ],
   "source": [
    "x = 12.1\n",
    "4.1*x**3 - 11*x**2 + 8.51*x - 2.2"
   ]
  },
  {
   "cell_type": "code",
   "execution_count": 2,
   "id": "214ca337-e1e4-4f23-96a8-f74f51c3e613",
   "metadata": {
    "tags": []
   },
   "outputs": [
    {
     "data": {
      "text/plain": [
       "100472.22222222222"
      ]
     },
     "execution_count": 2,
     "metadata": {},
     "output_type": "execute_result"
    }
   ],
   "source": [
    "5**3 * (9/5) * ((8**5)/9**2+42)"
   ]
  },
  {
   "cell_type": "code",
   "execution_count": 3,
   "id": "e0f6abd5-ac14-4d0c-9e59-988886c0e512",
   "metadata": {
    "tags": []
   },
   "outputs": [
    {
     "data": {
      "text/plain": [
       "349.34272"
      ]
     },
     "execution_count": 3,
     "metadata": {},
     "output_type": "execute_result"
    }
   ],
   "source": [
    "0.142*49.6**2"
   ]
  },
  {
   "cell_type": "code",
   "execution_count": 4,
   "id": "94b582ba-380c-47db-ada8-841e56730dde",
   "metadata": {
    "tags": []
   },
   "outputs": [
    {
     "data": {
      "text/plain": [
       "699.7816799999999"
      ]
     },
     "execution_count": 4,
     "metadata": {},
     "output_type": "execute_result"
    }
   ],
   "source": [
    "0.142*70.2**2"
   ]
  },
  {
   "cell_type": "code",
   "execution_count": 6,
   "id": "eb6b16d0-7fa3-4bf1-a2e6-56f4277a2247",
   "metadata": {
    "tags": []
   },
   "outputs": [
    {
     "name": "stdout",
     "output_type": "stream",
     "text": [
      "25118864.31509582\n"
     ]
    }
   ],
   "source": [
    "energy6 = (10**(4.4+(3*6)/2)/1000000)\n",
    "print(energy6)"
   ]
  },
  {
   "cell_type": "code",
   "execution_count": 7,
   "id": "4ff0e523-059c-4441-b744-e17ac8dd7a0d",
   "metadata": {
    "tags": []
   },
   "outputs": [],
   "source": [
    "energy9 = (10**(4.4+(3*9)/2)/1000000)"
   ]
  },
  {
   "cell_type": "code",
   "execution_count": 8,
   "id": "96c8c7d5-c591-4629-9a9c-4927b636f858",
   "metadata": {
    "tags": []
   },
   "outputs": [
    {
     "name": "stdout",
     "output_type": "stream",
     "text": [
      "794328234724.2789\n"
     ]
    }
   ],
   "source": [
    "print(energy9)"
   ]
  },
  {
   "cell_type": "code",
   "execution_count": 9,
   "id": "9639ee89-c604-40be-a4b9-1cd4acf5b019",
   "metadata": {
    "tags": []
   },
   "outputs": [
    {
     "name": "stdout",
     "output_type": "stream",
     "text": [
      "31622.77660168367\n"
     ]
    }
   ],
   "source": [
    "print(energy9/energy6)"
   ]
  },
  {
   "cell_type": "code",
   "execution_count": null,
   "id": "8b3209e5-06b6-48ea-b4cb-d5200a7f9e8c",
   "metadata": {},
   "outputs": [],
   "source": []
  }
 ],
 "metadata": {
  "kernelspec": {
   "display_name": "Python 3 (ipykernel)",
   "language": "python",
   "name": "python3"
  },
  "language_info": {
   "codemirror_mode": {
    "name": "ipython",
    "version": 3
   },
   "file_extension": ".py",
   "mimetype": "text/x-python",
   "name": "python",
   "nbconvert_exporter": "python",
   "pygments_lexer": "ipython3",
   "version": "3.11.5"
  }
 },
 "nbformat": 4,
 "nbformat_minor": 5
}
