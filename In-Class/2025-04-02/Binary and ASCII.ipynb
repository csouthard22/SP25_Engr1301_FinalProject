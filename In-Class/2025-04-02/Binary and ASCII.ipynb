{
 "cells": [
  {
   "cell_type": "markdown",
   "metadata": {},
   "source": [
    "# ASCII"
   ]
  },
  {
   "cell_type": "code",
   "execution_count": 21,
   "metadata": {},
   "outputs": [],
   "source": [
    "def string_ord(input):\n",
    "    char = list(input)\n",
    "    out = [ord(i) for i in char]\n",
    "    return out\n",
    "\n",
    "def string_chr(input):\n",
    "    out = [chr(i) for i in input]\n",
    "    return \"\".join(out)"
   ]
  },
  {
   "cell_type": "code",
   "execution_count": 23,
   "metadata": {},
   "outputs": [
    {
     "name": "stdout",
     "output_type": "stream",
     "text": [
      "WASHU\n",
      "washu\n",
      "Python\n",
      "[72, 101, 108, 108, 111]\n",
      "[67, 111, 108, 101]\n"
     ]
    }
   ],
   "source": [
    "print(string_chr([87, 65, 83, 72, 85]))\n",
    "print(string_chr([119, 97, 115, 104, 117]))\n",
    "print(string_chr([80, 121, 116, 104, 111, 110]))\n",
    "print(string_ord('Hello'))\n",
    "print(string_ord('Cole'))"
   ]
  },
  {
   "cell_type": "markdown",
   "metadata": {},
   "source": [
    "# Binary\n",
    "<br>What number does the binary 0110 represent?\n",
    "<br>6\n",
    "<br>What number does the binary 10010011 represent?\n",
    "<br>147\n",
    "<br>What is the maximum value of an 8-bit binary number?\n",
    "<br>255\n",
    "<br>What is the minimum value of an 8-bit binary number?\n",
    "<br>0\n",
    "<br>How do you write 42 in binary?\n",
    "<br>00101010\n",
    "<br>How do you write 100 in binary?\n",
    "<br>01100100\n",
    "<br>How do you tell whether a binary number is even or odd?\n",
    "<br>last bit 0 or 1\n",
    "<br>Given the binary number 11001000, what's the easiest way to add two to it?\n",
    "<br>flip second to last bit\n",
    "<br>Given the binary number 11001000, what's the easiest way to add six to it?\n",
    "<br>flip 2nd and 3rd bit from right"
   ]
  }
 ],
 "metadata": {
  "kernelspec": {
   "display_name": "Python 3",
   "language": "python",
   "name": "python3"
  },
  "language_info": {
   "codemirror_mode": {
    "name": "ipython",
    "version": 3
   },
   "file_extension": ".py",
   "mimetype": "text/x-python",
   "name": "python",
   "nbconvert_exporter": "python",
   "pygments_lexer": "ipython3",
   "version": "3.13.1"
  }
 },
 "nbformat": 4,
 "nbformat_minor": 2
}
