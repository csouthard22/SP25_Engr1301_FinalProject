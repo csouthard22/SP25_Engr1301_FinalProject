{
 "cells": [
  {
   "cell_type": "code",
   "execution_count": null,
   "id": "a0157534",
   "metadata": {},
   "outputs": [],
   "source": [
    "import pandas as pd\n",
    "data = pd.read_csv(\"prize.csv\")"
   ]
  },
  {
   "cell_type": "code",
   "execution_count": 26,
   "id": "4bf0a6c3",
   "metadata": {},
   "outputs": [
    {
     "name": "stdout",
     "output_type": "stream",
     "text": [
      "Roger Penrose won a prize for physics\n"
     ]
    }
   ],
   "source": [
    "roger = data.loc[56]\n",
    "print(f\"{roger.firstname} {roger.surname} won a prize for {roger.category}\")"
   ]
  },
  {
   "cell_type": "code",
   "execution_count": 30,
   "id": "75c67724",
   "metadata": {},
   "outputs": [
    {
     "name": "stdout",
     "output_type": "stream",
     "text": [
      "     year    category   id  firstname     surname  \\\n",
      "293  2000   chemistry  729       Alan      Heeger   \n",
      "294  2000   chemistry  730       Alan  MacDiarmid   \n",
      "295  2000   chemistry  731     Hideki   Shirakawa   \n",
      "296  2000   economics  732   James J.     Heckman   \n",
      "297  2000   economics  733  Daniel L.    McFadden   \n",
      "298  2000  literature  734   Xingjian         Gao   \n",
      "299  2000       peace  725        Kim    Dae-jung   \n",
      "300  2000     physics  726     Zhores     Alferov   \n",
      "301  2000     physics  727    Herbert     Kroemer   \n",
      "302  2000     physics  728       Jack       Kilby   \n",
      "303  2000    medicine  722      Arvid    Carlsson   \n",
      "304  2000    medicine  723       Paul   Greengard   \n",
      "305  2000    medicine  724       Eric      Kandel   \n",
      "\n",
      "                                            motivation  share  \n",
      "293  \"for the discovery and development of conducti...      3  \n",
      "294  \"for the discovery and development of conducti...      3  \n",
      "295  \"for the discovery and development of conducti...      3  \n",
      "296  \"for his development of theory and methods for...      2  \n",
      "297  \"for his development of theory and methods for...      2  \n",
      "298  \"for an œuvre of universal validity, bitter in...      1  \n",
      "299  \"for his work for democracy and human rights i...      1  \n",
      "300  \"for developing semiconductor heterostructures...      4  \n",
      "301  \"for developing semiconductor heterostructures...      4  \n",
      "302  \"for his part in the invention of the integrat...      2  \n",
      "303  \"for their discoveries concerning signal trans...      3  \n",
      "304  \"for their discoveries concerning signal trans...      3  \n",
      "305  \"for their discoveries concerning signal trans...      3  \n"
     ]
    }
   ],
   "source": [
    "print(data[data.year == 2000])"
   ]
  },
  {
   "cell_type": "code",
   "execution_count": 31,
   "id": "4a840e43",
   "metadata": {},
   "outputs": [
    {
     "name": "stdout",
     "output_type": "stream",
     "text": [
      "     year   category    id   firstname    surname  \\\n",
      "3    2024  economics  1044       Daron   Acemoglu   \n",
      "4    2024  economics  1045       Simon    Johnson   \n",
      "5    2024  economics  1046       James   Robinson   \n",
      "15   2023  economics  1034     Claudia     Goldin   \n",
      "26   2022  economics  1021         Ben   Bernanke   \n",
      "..    ...        ...   ...         ...        ...   \n",
      "589  1972  economics   682  Kenneth J.      Arrow   \n",
      "597  1971  economics   680       Simon    Kuznets   \n",
      "603  1970  economics   679     Paul A.  Samuelson   \n",
      "613  1969  economics   677      Ragnar     Frisch   \n",
      "614  1969  economics   678         Jan  Tinbergen   \n",
      "\n",
      "                                            motivation  share  \n",
      "3    \"for studies of how institutions are formed an...      3  \n",
      "4    \"for studies of how institutions are formed an...      3  \n",
      "5    \"for studies of how institutions are formed an...      3  \n",
      "15   \"for having advanced our understanding of wome...      1  \n",
      "26        \"for research on banks and financial crises\"      3  \n",
      "..                                                 ...    ...  \n",
      "589  \"for their pioneering contributions to general...      2  \n",
      "597  \"for his empirically founded interpretation of...      1  \n",
      "603  \"for the scientific work through which he has ...      1  \n",
      "613  \"for having developed and applied dynamic mode...      2  \n",
      "614  \"for having developed and applied dynamic mode...      2  \n",
      "\n",
      "[96 rows x 7 columns]\n"
     ]
    }
   ],
   "source": [
    "print(data[data.category == 'economics'])"
   ]
  },
  {
   "cell_type": "code",
   "execution_count": 57,
   "id": "4339edaf",
   "metadata": {},
   "outputs": [
    {
     "name": "stdout",
     "output_type": "stream",
     "text": [
      "     year   category   id firstname       surname  \\\n",
      "830  1935  chemistry  194     Irène  Joliot-Curie   \n",
      "944  1911  chemistry    6     Marie         Curie   \n",
      "996  1903    physics    5    Pierre         Curie   \n",
      "997  1903    physics    6     Marie         Curie   \n",
      "\n",
      "                                            motivation  share  \n",
      "830  \"in recognition of their synthesis of new radi...      2  \n",
      "944  \"in recognition of her services to the advance...      1  \n",
      "996  \"in recognition of the extraordinary services ...      4  \n",
      "997  \"in recognition of the extraordinary services ...      4  \n"
     ]
    }
   ],
   "source": [
    "print(data[data.surname.str.contains(\"Curie\", na=False)])"
   ]
  },
  {
   "cell_type": "code",
   "execution_count": null,
   "id": "3990e958",
   "metadata": {},
   "outputs": [
    {
     "name": "stdout",
     "output_type": "stream",
     "text": [
      "Found 4 Nobel Prize record(s) matching 'curie':\n",
      "\n",
      "Name: Irène Joliot-Curie\n",
      "Year: 1935\n",
      "Category: chemistry\n",
      "Motivation: \"in recognition of their synthesis of new radioactive elements\"\n",
      "----------------------------------------------------------------------\n",
      "Name: Marie Curie\n",
      "Year: 1911\n",
      "Category: chemistry\n",
      "Motivation: \"in recognition of her services to the advancement of chemistry by the discovery of the elements radium and polonium, by the isolation of radium and the study of the nature and compounds of this remarkable element\"\n",
      "----------------------------------------------------------------------\n",
      "Name: Pierre Curie\n",
      "Year: 1903\n",
      "Category: physics\n",
      "Motivation: \"in recognition of the extraordinary services they have rendered by their joint researches on the radiation phenomena discovered by Professor Henri Becquerel\"\n",
      "----------------------------------------------------------------------\n",
      "Name: Marie Curie\n",
      "Year: 1903\n",
      "Category: physics\n",
      "Motivation: \"in recognition of the extraordinary services they have rendered by their joint researches on the radiation phenomena discovered by Professor Henri Becquerel\"\n",
      "----------------------------------------------------------------------\n"
     ]
    }
   ],
   "source": [
    "def search_nobel_laureate(data, search_surname):\n",
    "    search_surname = search_surname.lower()\n",
    "    \n",
    "    matches = data[data.surname.str.lower().str.contains(search_surname, na=False)]\n",
    "    \n",
    "    if len(matches) == 0:\n",
    "        print(f\"No Nobel laureates found with surname containing '{search_surname}'\")\n",
    "    else:\n",
    "        print(f\"Found {len(matches)} Nobel Prize record(s) matching '{search_surname}':\\n\")\n",
    "        \n",
    "        for i, row in matches.iterrows():\n",
    "            print(f\"Name: {row.firstname} {row.surname}\")\n",
    "            print(f\"Year: {row.year}\")\n",
    "            print(f\"Category: {row.category}\")\n",
    "            print(f\"Motivation: {row.motivation}\")\n",
    "            print(\"-\" * 70)\n",
    "\n",
    "search_term = input(\"Enter a surname to search for: \")\n",
    "search_nobel_laureate(data, search_term)"
   ]
  },
  {
   "cell_type": "code",
   "execution_count": 58,
   "id": "d330e3dd",
   "metadata": {},
   "outputs": [
    {
     "name": "stdout",
     "output_type": "stream",
     "text": [
      "     year   category    id firstname    surname  \\\n",
      "0    2024  chemistry  1039     David      Baker   \n",
      "38   2021  chemistry  1003     David  MacMillan   \n",
      "39   2021  economics  1007     David       Card   \n",
      "48   2021   medicine   997     David     Julius   \n",
      "318  1998      peace   567     David    Trimble   \n",
      "558  1975   medicine   406     David  Baltimore   \n",
      "\n",
      "                                            motivation  share  \n",
      "0                   \"for computational protein design\"      2  \n",
      "38   \"for the development of asymmetric organocatal...      2  \n",
      "39   \"for his empirical contributions to labour eco...      2  \n",
      "48   \"for their discoveries of receptors for temper...      2  \n",
      "318  \"for their efforts to find a peaceful solution...      2  \n",
      "558  \"for their discoveries concerning the interact...      3  \n"
     ]
    }
   ],
   "source": [
    "print(data[data.firstname == 'David'])"
   ]
  },
  {
   "cell_type": "code",
   "execution_count": 61,
   "id": "59166f39",
   "metadata": {},
   "outputs": [
    {
     "name": "stdout",
     "output_type": "stream",
     "text": [
      "6\n"
     ]
    }
   ],
   "source": [
    "print(len(data[data.firstname == 'David']))"
   ]
  },
  {
   "cell_type": "code",
   "execution_count": 64,
   "id": "e9d37016",
   "metadata": {},
   "outputs": [
    {
     "name": "stdout",
     "output_type": "stream",
     "text": [
      "['chemistry' 'economics' 'literature' 'peace' 'physics' 'medicine']\n"
     ]
    }
   ],
   "source": [
    "print(data.category.unique())"
   ]
  },
  {
   "cell_type": "code",
   "execution_count": 66,
   "id": "fb7cb02b",
   "metadata": {},
   "outputs": [
    {
     "name": "stdout",
     "output_type": "stream",
     "text": [
      "category\n",
      "medicine      229\n",
      "physics       227\n",
      "chemistry     197\n",
      "peace         142\n",
      "literature    121\n",
      "economics      96\n",
      "Name: count, dtype: int64\n"
     ]
    }
   ],
   "source": [
    "print(data.category.value_counts())"
   ]
  }
 ],
 "metadata": {
  "kernelspec": {
   "display_name": "Python 3",
   "language": "python",
   "name": "python3"
  },
  "language_info": {
   "codemirror_mode": {
    "name": "ipython",
    "version": 3
   },
   "file_extension": ".py",
   "mimetype": "text/x-python",
   "name": "python",
   "nbconvert_exporter": "python",
   "pygments_lexer": "ipython3",
   "version": "3.13.1"
  }
 },
 "nbformat": 4,
 "nbformat_minor": 5
}
