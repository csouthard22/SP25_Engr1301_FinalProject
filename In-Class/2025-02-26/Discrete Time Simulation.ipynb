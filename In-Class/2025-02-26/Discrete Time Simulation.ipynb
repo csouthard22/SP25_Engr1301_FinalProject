{
 "cells": [
  {
   "cell_type": "code",
   "execution_count": null,
   "metadata": {},
   "outputs": [],
   "source": [
    "import matplotlib.pyplot as plt\n",
    "from IPython.display import clear_output"
   ]
  },
  {
   "cell_type": "code",
   "execution_count": null,
   "metadata": {},
   "outputs": [],
   "source": [
    "# room size\n",
    "XMIN = 0\n",
    "XMAX = 100\n",
    "YMIN = 0\n",
    "YMAX = 100\n",
    "\n",
    "\n",
    "# initial conditions\n",
    "px = 50\n",
    "py = 50\n",
    "vx = 3\n",
    "vy = 0\n",
    "ax = 0\n",
    "ay = -9.8\n",
    "TIME_STEP = 0.1 #seconds\n",
    "\n",
    "#drag\n",
    "DRAG = 0.9\n",
    "\n",
    "\n",
    "while True: #infinite loop\n",
    "    #clear output\n",
    "    plt.clf()\n",
    "    clear_output(wait=True)\n",
    "\n",
    "    #set up new axes to plot on\n",
    "    ax = plt.gca()\n",
    "\n",
    "    #plot current position\n",
    "    ax.scatter(px, py)\n",
    "\n",
    "    # stop simulation when vx is small enough\n",
    "    if -0.5 < vx < 0.5:\n",
    "        break\n",
    "\n",
    "    #change position\n",
    "    px += vx*TIME_STEP\n",
    "    py += vy*TIME_STEP\n",
    "\n",
    "    #gravity\n",
    "    vy += ay*TIME_STEP\n",
    "\n",
    "    #bounce\n",
    "    if py < YMIN:\n",
    "        py = YMIN\n",
    "        vy = -vy * DRAG # every time you hit the floor/wall, 10% energy is lost\n",
    "    if px >= XMAX:\n",
    "        vx = -vx*DRAG\n",
    "    if px <= XMIN:\n",
    "        vx = -vx*DRAG\n",
    "\n",
    "    #set up size of room were in\n",
    "    ax.axis([XMIN,XMAX,YMIN,YMAX])\n",
    "    plt.show()\n",
    "\n",
    "\n"
   ]
  }
 ],
 "metadata": {
  "kernelspec": {
   "display_name": "Python 3",
   "language": "python",
   "name": "python3"
  },
  "language_info": {
   "codemirror_mode": {
    "name": "ipython",
    "version": 3
   },
   "file_extension": ".py",
   "mimetype": "text/x-python",
   "name": "python",
   "nbconvert_exporter": "python",
   "pygments_lexer": "ipython3",
   "version": "3.13.1"
  }
 },
 "nbformat": 4,
 "nbformat_minor": 2
}
