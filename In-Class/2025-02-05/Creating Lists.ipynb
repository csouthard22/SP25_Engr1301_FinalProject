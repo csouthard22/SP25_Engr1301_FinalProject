{
 "cells": [
  {
   "cell_type": "markdown",
   "metadata": {},
   "source": [
    "# 1"
   ]
  },
  {
   "cell_type": "code",
   "execution_count": 2,
   "metadata": {},
   "outputs": [
    {
     "name": "stdout",
     "output_type": "stream",
     "text": [
      "[1, 3, 5, 7, 9, 11]\n"
     ]
    }
   ],
   "source": [
    "numlist = []\n",
    "for i in range(1,12):\n",
    "    if i % 2 == 1:\n",
    "        numlist.append(i)\n",
    "print(numlist)"
   ]
  },
  {
   "cell_type": "code",
   "execution_count": 5,
   "metadata": {},
   "outputs": [
    {
     "name": "stdout",
     "output_type": "stream",
     "text": [
      "['Kim', 'Mike', 'Cole', 'Michael']\n"
     ]
    }
   ],
   "source": [
    "family = ['Kim', 'Mike', 'Cole', 'Michael']\n",
    "print(family)"
   ]
  },
  {
   "cell_type": "code",
   "execution_count": 6,
   "metadata": {},
   "outputs": [
    {
     "name": "stdout",
     "output_type": "stream",
     "text": [
      "['Cole', \"5'11\", 'Purple', 0.0072973525643, True]\n"
     ]
    }
   ],
   "source": [
    "bio = ['Cole', '5\\'11', 'Purple', 0.0072973525643, True]\n",
    "print(bio)"
   ]
  },
  {
   "cell_type": "markdown",
   "metadata": {},
   "source": [
    "# 2"
   ]
  },
  {
   "cell_type": "code",
   "execution_count": 7,
   "metadata": {},
   "outputs": [
    {
     "name": "stdout",
     "output_type": "stream",
     "text": [
      "[1, 2, 3, 4, 5, 6, 7, 8, 9, 10]\n"
     ]
    }
   ],
   "source": [
    "values = [ 1, 2, 3, 4, 5, 6, 7, 8, 9, 10 ]\n",
    "\n",
    "print(values)"
   ]
  },
  {
   "cell_type": "code",
   "execution_count": 9,
   "metadata": {},
   "outputs": [
    {
     "name": "stdout",
     "output_type": "stream",
     "text": [
      "3\n"
     ]
    }
   ],
   "source": [
    "print(values[2])"
   ]
  },
  {
   "cell_type": "code",
   "execution_count": 11,
   "metadata": {},
   "outputs": [
    {
     "name": "stdout",
     "output_type": "stream",
     "text": [
      "[5, 6, 7, 8, 9]\n"
     ]
    }
   ],
   "source": [
    "print(values[4:9])"
   ]
  },
  {
   "cell_type": "code",
   "execution_count": 14,
   "metadata": {},
   "outputs": [
    {
     "name": "stdout",
     "output_type": "stream",
     "text": [
      "1\n",
      "3\n",
      "5\n",
      "7\n",
      "9\n"
     ]
    }
   ],
   "source": [
    "for i in range(0,len(values)):\n",
    "    if values[i] % 2 == 1:\n",
    "        print(values[i])"
   ]
  },
  {
   "cell_type": "markdown",
   "metadata": {},
   "source": [
    "# 3"
   ]
  },
  {
   "cell_type": "code",
   "execution_count": 15,
   "metadata": {},
   "outputs": [
    {
     "name": "stdout",
     "output_type": "stream",
     "text": [
      "['apple', 'banana', 'pear', 'peach', 'grape', 'orange', 'kiwi', 'cherry']\n"
     ]
    }
   ],
   "source": [
    "fruits = [ 'apple', 'banana', 'pear', 'peach', 'grape', 'orange', 'kiwi', 'cherry' ]\n",
    "\n",
    "print(fruits)"
   ]
  },
  {
   "cell_type": "code",
   "execution_count": 17,
   "metadata": {},
   "outputs": [
    {
     "name": "stdout",
     "output_type": "stream",
     "text": [
      "['apple', 'banana', 'pear', 'peach', 'grape']\n"
     ]
    }
   ],
   "source": [
    "print(fruits[0:5])"
   ]
  },
  {
   "cell_type": "code",
   "execution_count": 19,
   "metadata": {},
   "outputs": [
    {
     "name": "stdout",
     "output_type": "stream",
     "text": [
      "apple\n",
      "banana\n",
      "pear\n",
      "kiwi\n",
      "cherry\n"
     ]
    }
   ],
   "source": [
    "for i in range(0, len(fruits)):\n",
    "    if not 3 <= i <= 5:\n",
    "        print(fruits[i])"
   ]
  },
  {
   "cell_type": "markdown",
   "metadata": {},
   "source": [
    "# 4"
   ]
  },
  {
   "cell_type": "code",
   "execution_count": 40,
   "metadata": {},
   "outputs": [
    {
     "name": "stdout",
     "output_type": "stream",
     "text": [
      "Grape is in fruits\n"
     ]
    }
   ],
   "source": [
    "fruits = [ 'apple', 'banana', 'pear', 'peach', 'grape', 'orange', 'kiwi', 'cherry' ]\n",
    "\n",
    "if 'grape' in fruits:\n",
    "    print('Grape is in fruits')\n",
    "else:\n",
    "    print('Grape is not in fruits')"
   ]
  },
  {
   "cell_type": "code",
   "execution_count": 23,
   "metadata": {},
   "outputs": [
    {
     "name": "stdout",
     "output_type": "stream",
     "text": [
      "Strawberry is not in fruits\n"
     ]
    }
   ],
   "source": [
    "if 'strawberry' in fruits:\n",
    "    print('Strawberry is in fruits')\n",
    "else:\n",
    "    print('Strawberry is not in fruits')"
   ]
  },
  {
   "cell_type": "code",
   "execution_count": 38,
   "metadata": {},
   "outputs": [
    {
     "name": "stdout",
     "output_type": "stream",
     "text": [
      "Pear is in fruits\n"
     ]
    }
   ],
   "source": [
    "if 'pear' not in fruits:\n",
    "    print('Pear is not in fruits')\n",
    "else:\n",
    "    print('Pear is in fruits')"
   ]
  },
  {
   "cell_type": "code",
   "execution_count": 41,
   "metadata": {},
   "outputs": [
    {
     "name": "stdout",
     "output_type": "stream",
     "text": [
      "The index value of peach is 3\n"
     ]
    }
   ],
   "source": [
    "print('The index value of peach is ' + str(fruits.index('peach')))"
   ]
  },
  {
   "cell_type": "code",
   "execution_count": 42,
   "metadata": {},
   "outputs": [
    {
     "name": "stdout",
     "output_type": "stream",
     "text": [
      "The index value of kiwi is 6\n"
     ]
    }
   ],
   "source": [
    "print('The index value of kiwi is ' + str(fruits.index('kiwi')))"
   ]
  },
  {
   "cell_type": "code",
   "execution_count": 35,
   "metadata": {},
   "outputs": [
    {
     "name": "stdout",
     "output_type": "stream",
     "text": [
      "['apple', 'banana', 'cherry', 'grape', 'kiwi', 'orange', 'peach', 'pear']\n"
     ]
    }
   ],
   "source": [
    "fruits.sort()\n",
    "print(fruits)"
   ]
  },
  {
   "cell_type": "markdown",
   "metadata": {},
   "source": [
    "# 5"
   ]
  },
  {
   "cell_type": "code",
   "execution_count": 47,
   "metadata": {},
   "outputs": [
    {
     "name": "stdout",
     "output_type": "stream",
     "text": [
      "['cat', 'snake', 'horse', 'fish', 'fox', 'mouse', 'bird']\n"
     ]
    }
   ],
   "source": [
    "animals = [ 'cat', 'bear', 'dog', 'horse', 'fox', 'mouse' ]\n",
    "\n",
    "animals[2] = 'snake'\n",
    "animals.append('bird')\n",
    "animals.insert(4,'fish')\n",
    "animals.remove('bear')\n",
    "print(animals)"
   ]
  },
  {
   "cell_type": "markdown",
   "metadata": {},
   "source": [
    "# 6"
   ]
  },
  {
   "cell_type": "code",
   "execution_count": 1,
   "metadata": {},
   "outputs": [
    {
     "name": "stdout",
     "output_type": "stream",
     "text": [
      "[1, 10, 100, 1000, 10000]\n",
      "C\n",
      "o\n",
      "l\n",
      "e\n"
     ]
    }
   ],
   "source": [
    "print([10**i for i in range(5)])\n",
    "\n",
    "myName = ['C','o','l','e']\n",
    "for i in range(len(myName)):\n",
    "    print(myName[i])"
   ]
  }
 ],
 "metadata": {
  "kernelspec": {
   "display_name": "Python 3",
   "language": "python",
   "name": "python3"
  },
  "language_info": {
   "codemirror_mode": {
    "name": "ipython",
    "version": 3
   },
   "file_extension": ".py",
   "mimetype": "text/x-python",
   "name": "python",
   "nbconvert_exporter": "python",
   "pygments_lexer": "ipython3",
   "version": "3.13.1"
  }
 },
 "nbformat": 4,
 "nbformat_minor": 2
}
