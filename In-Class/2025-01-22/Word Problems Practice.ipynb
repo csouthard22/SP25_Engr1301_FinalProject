{
 "cells": [
  {
   "cell_type": "code",
   "execution_count": 2,
   "id": "c4570ea9-060e-4cd9-9363-24edd4c9a4f6",
   "metadata": {
    "tags": []
   },
   "outputs": [
    {
     "name": "stdout",
     "output_type": "stream",
     "text": [
      "Enter present value:  1000\n",
      "How old are you?  22\n",
      "How old will you be at retirement?  67\n"
     ]
    },
    {
     "name": "stdout",
     "output_type": "stream",
     "text": [
      "After 45 years, you will have $21002.45\n"
     ]
    }
   ],
   "source": [
    "def future_value(pv,r,n):\n",
    "    fv = pv * (1+r)**n\n",
    "    return fv\n",
    "\n",
    "pv = int(input(\"Enter present value: \"))\n",
    "r = 0.07\n",
    "age = int(input(\"How old are you? \"))\n",
    "heldUntil = int(input(\"How old will you be at retirement? \"))\n",
    "n = heldUntil-age\n",
    "\n",
    "future_value(pv,r,n)\n",
    "\n",
    "print(f\"After {n} years, you will have ${round(future_value(pv,r,n),2)}\")"
   ]
  },
  {
   "cell_type": "code",
   "execution_count": 6,
   "id": "9464c4ca-a056-4afe-8cc1-37d881461c33",
   "metadata": {
    "tags": []
   },
   "outputs": [
    {
     "name": "stdout",
     "output_type": "stream",
     "text": [
      "----  -\n",
      "f(0)  3\n",
      "f(1)  4\n",
      "f(2)  5\n",
      "f(4)  7\n",
      "f(5)  8\n",
      "----  -\n"
     ]
    }
   ],
   "source": [
    "from tabulate import tabulate\n",
    "\n",
    "def f(x):\n",
    "    y = (x**2-9)/(x-3)\n",
    "    return y\n",
    "\n",
    "data = [[\"f(0)\", f(0)],\n",
    "        [\"f(1)\", f(1)],\n",
    "        [\"f(2)\", f(2)],\n",
    "        [\"f(4)\", f(4)],\n",
    "        [\"f(5)\", f(5)]]\n",
    "\n",
    "print(tabulate(data))"
   ]
  },
  {
   "cell_type": "code",
   "execution_count": 7,
   "id": "561bd854-684b-4139-84a1-d820c941f691",
   "metadata": {
    "tags": []
   },
   "outputs": [
    {
     "name": "stdout",
     "output_type": "stream",
     "text": [
      "-----  ---------\n",
      "f(-6)  -16\n",
      "f(-5)  -23\n",
      "f(-3)   11\n",
      "f(-2)    4\n",
      "f(-1)    2.33333\n",
      "-----  ---------\n"
     ]
    }
   ],
   "source": [
    "from tabulate import tabulate\n",
    "\n",
    "def f(x):\n",
    "    y = ((x**2)/(x+4)+2)\n",
    "    return y\n",
    "\n",
    "data = [[\"f(-6)\", f(-6)],\n",
    "        [\"f(-5)\", f(-5)],\n",
    "        [\"f(-3)\", f(-3)],\n",
    "        [\"f(-2)\", f(-2)],\n",
    "        [\"f(-1)\", f(-1)]]\n",
    "\n",
    "print(tabulate(data))"
   ]
  },
  {
   "cell_type": "code",
   "execution_count": 10,
   "id": "1344d2f3-67a7-40bf-8480-7b92531d38b3",
   "metadata": {
    "tags": []
   },
   "outputs": [
    {
     "name": "stdout",
     "output_type": "stream",
     "text": [
      "5079.4415416798365\n"
     ]
    }
   ],
   "source": [
    "import math\n",
    "\n",
    "ve = 3000\n",
    "mWet = 60000\n",
    "mDry = 30000\n",
    "\n",
    "def delta_v(ve,mWet,mDry):\n",
    "    dv = ve * math.log(mWet/mDry)\n",
    "    return dv\n",
    "\n",
    "print(delta_v(ve,mWet,mDry) + ve)"
   ]
  },
  {
   "cell_type": "code",
   "execution_count": 15,
   "id": "637424bf-a8fa-4973-9f0b-6d852f56cb24",
   "metadata": {
    "tags": []
   },
   "outputs": [
    {
     "name": "stdout",
     "output_type": "stream",
     "text": [
      "Initial velocity is 88.54 m/s\n"
     ]
    }
   ],
   "source": [
    "import math\n",
    "\n",
    "def vo(hmax):\n",
    "    x = math.sqrt(2*9.8*hmax)\n",
    "    return x\n",
    "\n",
    "# def fuel_weight(mDry,ve,dv):\n",
    "#     mDry = 30000\n",
    "#     mWet = (mDry / exp(dv/ve))\n",
    "#     return mWet-mDry\n",
    "#\n",
    "# ^^^^^ Was work in progress\n",
    "\n",
    "print(f\"Initial velocity is {round(vo(400),2)} m/s\")"
   ]
  },
  {
   "cell_type": "code",
   "execution_count": null,
   "id": "e8b0159e-ce9c-4715-8a88-9588f98aa271",
   "metadata": {},
   "outputs": [],
   "source": []
  }
 ],
 "metadata": {
  "kernelspec": {
   "display_name": "Python 3",
   "language": "python",
   "name": "python3"
  },
  "language_info": {
   "codemirror_mode": {
    "name": "ipython",
    "version": 3
   },
   "file_extension": ".py",
   "mimetype": "text/x-python",
   "name": "python",
   "nbconvert_exporter": "python",
   "pygments_lexer": "ipython3",
   "version": "3.13.1"
  }
 },
 "nbformat": 4,
 "nbformat_minor": 5
}
