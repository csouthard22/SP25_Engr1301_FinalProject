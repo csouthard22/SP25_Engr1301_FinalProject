{
 "cells": [
  {
   "cell_type": "code",
   "execution_count": 11,
   "metadata": {},
   "outputs": [
    {
     "name": "stdout",
     "output_type": "stream",
     "text": [
      "-0.2254033307585166\n"
     ]
    }
   ],
   "source": [
    "import math\n",
    "\n",
    "a = 5\n",
    "b = 10\n",
    "c = 2\n",
    "\n",
    "def quadratic(a,b,c):\n",
    "    x = (-b + math.sqrt(b**2 - 4*a*c))/(2*a)\n",
    "    return x\n",
    "\n",
    "print(quadratic(a,b,c))"
   ]
  },
  {
   "cell_type": "code",
   "execution_count": 5,
   "metadata": {},
   "outputs": [
    {
     "name": "stdout",
     "output_type": "stream",
     "text": [
      "1.98864779527583\n"
     ]
    }
   ],
   "source": [
    "print(123**(1/7))"
   ]
  },
  {
   "cell_type": "code",
   "execution_count": 10,
   "metadata": {},
   "outputs": [
    {
     "name": "stdout",
     "output_type": "stream",
     "text": [
      "-0.31408208656112724\n"
     ]
    }
   ],
   "source": [
    "import math\n",
    "\n",
    "print((1.008 + math.sin(1.5 * math.pi + 7)) / math.cos(0.8 * math.pi))"
   ]
  }
 ],
 "metadata": {
  "kernelspec": {
   "display_name": "Python 3",
   "language": "python",
   "name": "python3"
  },
  "language_info": {
   "codemirror_mode": {
    "name": "ipython",
    "version": 3
   },
   "file_extension": ".py",
   "mimetype": "text/x-python",
   "name": "python",
   "nbconvert_exporter": "python",
   "pygments_lexer": "ipython3",
   "version": "3.13.1"
  }
 },
 "nbformat": 4,
 "nbformat_minor": 2
}
