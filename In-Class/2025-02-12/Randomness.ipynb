{
 "cells": [
  {
   "cell_type": "markdown",
   "metadata": {},
   "source": [
    "# 1"
   ]
  },
  {
   "cell_type": "code",
   "execution_count": null,
   "metadata": {},
   "outputs": [
    {
     "name": "stdout",
     "output_type": "stream",
     "text": [
      "The probability of rolling an 8 is 13.8823%\n"
     ]
    }
   ],
   "source": [
    "from random import randint\n",
    "\n",
    "countOfEights = 0\n",
    "numTrials = 1000000\n",
    "\n",
    "for i in range(0,numTrials):\n",
    "    if randint(1,6) + randint(1,6) == 8:\n",
    "        countOfEights += 1\n",
    "\n",
    "print(f'The probability of rolling an 8 is {countOfEights/numTrials*100:.2f}%')"
   ]
  },
  {
   "cell_type": "markdown",
   "metadata": {},
   "source": [
    "# 2"
   ]
  },
  {
   "cell_type": "code",
   "execution_count": null,
   "metadata": {},
   "outputs": [
    {
     "name": "stdout",
     "output_type": "stream",
     "text": [
      "The probability of rolling an 8 is 13.8763%\n"
     ]
    }
   ],
   "source": [
    "results = []\n",
    "numTrials = 1000000\n",
    "\n",
    "for i in range(0,numTrials):\n",
    "    results.append(randint(1,6) + randint(1,6))\n",
    "\n",
    "print(f'The probability of rolling an 8 is {results.count(8)/numTrials*100:.2f}%')"
   ]
  },
  {
   "cell_type": "markdown",
   "metadata": {},
   "source": [
    "# 3"
   ]
  },
  {
   "cell_type": "code",
   "execution_count": 41,
   "metadata": {},
   "outputs": [
    {
     "name": "stdout",
     "output_type": "stream",
     "text": [
      "The probability of rolling a 2 with two dice is 2.80%\n",
      "The probability of rolling a 3 with two dice is 5.55%\n",
      "The probability of rolling a 4 with two dice is 8.37%\n",
      "The probability of rolling a 5 with two dice is 11.10%\n",
      "The probability of rolling a 6 with two dice is 13.93%\n",
      "The probability of rolling a 7 with two dice is 16.63%\n",
      "The probability of rolling a 8 with two dice is 13.84%\n",
      "The probability of rolling a 9 with two dice is 11.09%\n",
      "The probability of rolling a 10 with two dice is 8.31%\n",
      "The probability of rolling a 11 with two dice is 5.53%\n",
      "The probability of rolling a 12 with two dice is 2.79%\n"
     ]
    }
   ],
   "source": [
    "btwnTwoTwelve = 0\n",
    "numTrials = 1000000\n",
    "\n",
    "def probability(num):\n",
    "    numResults = 0\n",
    "    for j in range(0,numTrials):\n",
    "        if randint(1,6) + randint(1,6) == num:\n",
    "            numResults += 1\n",
    "    print(f'The probability of rolling a {num} with two dice is {numResults/numTrials*100:.2f}%')\n",
    "    return\n",
    "\n",
    "for k in range(2,13):\n",
    "    probability(k)"
   ]
  },
  {
   "cell_type": "markdown",
   "metadata": {},
   "source": [
    "# 4"
   ]
  },
  {
   "cell_type": "code",
   "execution_count": null,
   "metadata": {},
   "outputs": [
    {
     "name": "stdout",
     "output_type": "stream",
     "text": [
      "The probability of rolling an 8 or greater with two dice is 41.77%\n",
      "The probability of rolling an even number with two dice is 50.01%. The probability of rolling an odd number with two dice is 49.99%\n",
      "The probability of rolling a number between 6 and 8 is 44.45%. The probability of rolling anything else is 55.55%\n"
     ]
    }
   ],
   "source": [
    "numTrials = 1000000\n",
    "def roll():\n",
    "    return randint(1,6) + randint(1,6)\n",
    "\n",
    "\n",
    "def num_or_greater(num):\n",
    "    numResults = 0\n",
    "    for i in range(0,numTrials):\n",
    "        if roll() >= num:numResults += 1\n",
    "    print(f'The probability of rolling an {num} or greater with two dice is {numResults/numTrials*100:.2f}%')\n",
    "\n",
    "def even_probability():\n",
    "    numEven = 0\n",
    "    for i in range(0,numTrials):\n",
    "        if roll() % 2 == 0: numEven += 1\n",
    "    print(f'The probability of rolling an even number with two dice is {numEven/numTrials*100:.2f}%. The probability of rolling an odd number with two dice is {100-numEven/numTrials*100:.2f}%')\n",
    "\n",
    "\n",
    "def in_a_row(n1,n2):\n",
    "    numResults = 0\n",
    "    for i in range(0,numTrials):\n",
    "        if n1 <= roll() <= n2: numResults += 1\n",
    "    print(f'The probability of rolling a number between {n1} and {n2} is {numResults/numTrials*100:.2f}%. The probability of rolling anything else is {100-numResults/numTrials*100:.2f}%')\n",
    "\n",
    "num_or_greater(8)\n",
    "even_probability()\n",
    "in_a_row(6,8)"
   ]
  },
  {
   "cell_type": "markdown",
   "metadata": {},
   "source": [
    "# 5"
   ]
  },
  {
   "cell_type": "code",
   "execution_count": 49,
   "metadata": {},
   "outputs": [
    {
     "name": "stdout",
     "output_type": "stream",
     "text": [
      "The probability of rolling a 7 with three dice is 6.96%\n",
      "The probability of rolling greater than 16 with a 6, 8, and 10 sided dice is 24.18%\n"
     ]
    }
   ],
   "source": [
    "numTrials = 1000000\n",
    "\n",
    "def roll3():\n",
    "    return randint(1,6) + randint(1,6) + randint(1,6)\n",
    "\n",
    "def three_dice_roll(n):\n",
    "    numResults = 0\n",
    "    for i in range(0,numTrials):\n",
    "        if roll3() == n: numResults += 1\n",
    "    print(f'The probability of rolling a {n} with three dice is {numResults/numTrials*100:.2f}%')\n",
    "    return\n",
    "\n",
    "def greater_than_sixteen():\n",
    "    numResults = 0\n",
    "    for i in range(0,numTrials):\n",
    "        if randint(1,6) + randint(1,8) + randint(1,10) > 16: numResults += 1\n",
    "    print(f'The probability of rolling greater than 16 with a 6, 8, and 10 sided dice is {numResults/numTrials*100:.2f}%')\n",
    "\n",
    "\n",
    "\n",
    "three_dice_roll(7)\n",
    "greater_than_sixteen()"
   ]
  },
  {
   "cell_type": "markdown",
   "metadata": {},
   "source": [
    "# 6"
   ]
  },
  {
   "cell_type": "code",
   "execution_count": 55,
   "metadata": {},
   "outputs": [
    {
     "name": "stdout",
     "output_type": "stream",
     "text": [
      "The probability of pulling a blue token on the third draw is 19.99%\n"
     ]
    }
   ],
   "source": [
    "from random import choice\n",
    "\n",
    "bag = [ 'R', 'R', 'R', 'R', 'R', 'G', 'G', 'G', 'B', 'B' ]\n",
    "numTrials = 1000000\n",
    "numResults = 0\n",
    "\n",
    "for i in range(0,numTrials):\n",
    "    temp_bag = bag.copy()\n",
    "    for j in range(0,2): temp_bag.remove(choice(temp_bag))\n",
    "    if choice(temp_bag) == 'B': numResults += 1\n",
    "\n",
    "print(f'The probability of pulling a blue token on the third draw is {numResults/numTrials*100:.2f}%')\n"
   ]
  },
  {
   "cell_type": "markdown",
   "metadata": {},
   "source": [
    "# 7"
   ]
  },
  {
   "cell_type": "code",
   "execution_count": 58,
   "metadata": {},
   "outputs": [
    {
     "name": "stdout",
     "output_type": "stream",
     "text": [
      "The probability of pulling a blue token on draw #1 is 20.05%\n",
      "The probability of pulling a blue token on draw #2 is 20.12%\n",
      "The probability of pulling a blue token on draw #3 is 19.97%\n",
      "The probability of pulling a blue token on draw #4 is 20.00%\n",
      "The probability of pulling a blue token on draw #5 is 19.98%\n",
      "The probability of pulling a blue token on draw #6 is 20.03%\n",
      "The probability of pulling a blue token on draw #7 is 19.90%\n",
      "The probability of pulling a blue token on draw #8 is 20.06%\n",
      "The probability of pulling a blue token on draw #9 is 19.94%\n",
      "The probability of pulling a blue token on draw #10 is 19.93%\n"
     ]
    }
   ],
   "source": [
    "bag = [ 'R', 'R', 'R', 'R', 'R', 'G', 'G', 'G', 'B', 'B' ]\n",
    "numTrials = 1000000\n",
    "\n",
    "def chance_on_num_pulls(num):\n",
    "    numResults = 0\n",
    "    for i in range(0,numTrials):\n",
    "        temp_bag = bag.copy()\n",
    "        for j in range(0,num-1): temp_bag.remove(choice(temp_bag))\n",
    "        if choice(temp_bag) == 'B': numResults += 1\n",
    "    print(f'The probability of pulling a blue token on draw #{num} is {numResults/numTrials*100:.2f}%')\n",
    "\n",
    "for i in range(1,11): chance_on_num_pulls(i)"
   ]
  },
  {
   "cell_type": "markdown",
   "metadata": {},
   "source": [
    "# 8"
   ]
  },
  {
   "cell_type": "code",
   "execution_count": 26,
   "metadata": {},
   "outputs": [
    {
     "name": "stdout",
     "output_type": "stream",
     "text": [
      "On average, it takes 6.0 draws to pull every color.\n"
     ]
    }
   ],
   "source": [
    "numTrials = 1000000\n",
    "bag = [ 'R', 'R', 'R', 'R', 'R', 'G', 'G', 'G', 'B', 'B' ]\n",
    "def all_colors_picked():\n",
    "    pulls = 0\n",
    "    for i in range(0,numTrials):\n",
    "        tempBag = bag.copy()\n",
    "        numPulls = 0\n",
    "        is_blue_picked = False\n",
    "        is_green_picked = False\n",
    "        is_red_picked = False\n",
    "\n",
    "        while not is_blue_picked or not is_green_picked or not is_red_picked:\n",
    "            pick = tempBag.pop()\n",
    "            if pick == 'B': is_blue_picked = True\n",
    "            elif pick == 'G': is_green_picked = True\n",
    "            else: is_red_picked = True\n",
    "            numPulls += 1\n",
    "        pulls += numPulls\n",
    "        \n",
    "    return pulls/numTrials\n",
    "    \n",
    "\n",
    "\n",
    "print(f'On average, it takes {all_colors_picked()} draws to pull every color.')\n",
    "            "
   ]
  },
  {
   "cell_type": "code",
   "execution_count": null,
   "metadata": {},
   "outputs": [],
   "source": []
  }
 ],
 "metadata": {
  "kernelspec": {
   "display_name": "Python 3",
   "language": "python",
   "name": "python3"
  },
  "language_info": {
   "codemirror_mode": {
    "name": "ipython",
    "version": 3
   },
   "file_extension": ".py",
   "mimetype": "text/x-python",
   "name": "python",
   "nbconvert_exporter": "python",
   "pygments_lexer": "ipython3",
   "version": "3.13.1"
  }
 },
 "nbformat": 4,
 "nbformat_minor": 2
}
